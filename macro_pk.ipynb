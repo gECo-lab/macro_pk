{
 "cells": [
  {
   "cell_type": "code",
   "execution_count": null,
   "id": "164c7b43",
   "metadata": {},
   "outputs": [
    {
     "name": "stderr",
     "output_type": "stream",
     "text": [
      "/home/rivero/.venv/lib/python3.12/site-packages/matplotlib/projections/__init__.py:63: UserWarning: Unable to import Axes3D. This may be due to multiple versions of Matplotlib being installed (e.g. as a system package and as a pip package). As a result, the 3D projection is not available.\n",
      "  warnings.warn(\"Unable to import Axes3D. This may be due to multiple versions of \"\n"
     ]
    }
   ],
   "source": [
    "# Jupyter Notebook\n",
    "\n",
    "# Importando as bibliotecas necessárias\n",
    "import os\n",
    "import json\n",
    "import subprocess\n",
    "import pandas as pd\n",
    "import seaborn as sns\n",
    "from pathlib import Path\n",
    "import numpy as np\n",
    "import matplotlib.pyplot as plt\n",
    "from datetime import datetime\n",
    "import math\n",
    "\n",
    "\n",
    "\n",
    "# Configurações iniciais\n",
    "sns.set_theme(style=\"whitegrid\")\n",
    "pd.options.mode.chained_assignment = None  # Para evitar warnings de cópias de DataFrame\n",
    "\n",
    "# Configurando os diretórios\n",
    "input_dir = Path(\"runs\")\n",
    "output_dir = Path(\"results\")\n",
    "output_dir.mkdir(exist_ok=True)\n",
    "\n",
    "\n",
    "\n"
   ]
  },
  {
   "cell_type": "markdown",
   "id": "1badb67a",
   "metadata": {},
   "source": [
    "## Execução da Simulação"
   ]
  },
  {
   "cell_type": "code",
   "execution_count": 2,
   "id": "ba108800",
   "metadata": {},
   "outputs": [
    {
     "name": "stderr",
     "output_type": "stream",
     "text": [
      "Scenario: Scenario1 Run nr.: 0: 100%|██████████| 60/60 [00:02<00:00, 21.45it/s]\n",
      "Scenario: Scenario1 Run nr.: 1: 100%|██████████| 60/60 [00:03<00:00, 15.35it/s]\n",
      "Scenario: Scenario1 Run nr.: 2: 100%|██████████| 60/60 [00:05<00:00, 10.85it/s]\n"
     ]
    }
   ],
   "source": [
    "from json import load\n",
    "\n",
    "\n",
    "def main():\n",
    "    # Activate virtual environment (if needed, adjust path accordingly)\n",
    "    venv_path = os.path.join(os.getcwd(), \"venv\")\n",
    "    if os.path.exists(venv_path):\n",
    "        activate_script = os.path.join(venv_path, \"bin\", \"activate_this.py\")\n",
    "        with open(activate_script) as f:\n",
    "            exec(f.read(), {'__file__': activate_script})\n",
    "\n",
    "        # Read kernel_dir from config.json\n",
    "    config_json_file = \"config.json\"        \n",
    "    with open(config_json_file) as config_file:\n",
    "        config = json.load(config_file)\n",
    "        kernel_dir = config[\"paths\"][\"kernel\"]\n",
    "        analisys_dir = config[\"paths\"][\"analisys\"]\n",
    "        results_dir = config[\"paths\"][\"results\"]\n",
    "        runs_dir = config[\"paths\"][\"runs\"]\n",
    "        model_file = config[\"files\"][\"model\"]\n",
    "        scenarios_file = config[\"files\"][\"scenarios\"]\n",
    "        analisys_file = config[\"files\"][\"analisys\"]\n",
    "\n",
    "\n",
    "\n",
    "    # Remove CSV files in the 'runs' directory\n",
    "    if os.path.exists(runs_dir):\n",
    "        for file in os.listdir(runs_dir):\n",
    "            if file.endswith(\".csv\"):\n",
    "                os.remove(os.path.join(runs_dir, file))\n",
    "\n",
    "    # Get current directory as app_dir\n",
    "    app_dir = os.getcwd()\n",
    "\n",
    "\n",
    "    # Change directory to kernel_dir and run ecosimp.py\n",
    "    os.chdir(kernel_dir)\n",
    "    subprocess.run([\"python3\", \"ecosimp.py\",\n",
    "                     app_dir, config_json_file,\n",
    "                     model_file, scenarios_file\n",
    "                     ], \n",
    "                     check=True\n",
    "                     )\n",
    "    \n",
    "    # Change back to the original directory\n",
    "    os.chdir(app_dir)\n",
    "\n",
    "\n",
    "\n",
    "if __name__ == \"__main__\":\n",
    "    main()"
   ]
  },
  {
   "cell_type": "markdown",
   "id": "aa4cafba",
   "metadata": {},
   "source": [
    "# Processar os dados de saída da simulação\n"
   ]
  },
  {
   "cell_type": "code",
   "execution_count": 3,
   "id": "6d2f4318",
   "metadata": {},
   "outputs": [
    {
     "name": "stdout",
     "output_type": "stream",
     "text": [
      "runs\n",
      "Processamento concluído.\n"
     ]
    }
   ],
   "source": [
    "\n",
    "\n",
    "output_dir.mkdir(exist_ok=True)\n",
    "\n",
    "print(input_dir)\n",
    "\n",
    "# Carregar arquivos Household\n",
    "files = [f for f in os.listdir(input_dir) if \"macro_model_Household\" in f]\n",
    "if files:\n",
    "    Household = pd.read_csv(os.path.join(input_dir, files[0]))\n",
    "    Household = Household.drop(columns=[col for col in [\"run\", \"index_no\"] if col in Household.columns])\n",
    "else:\n",
    "    Household = pd.DataFrame()\n",
    "\n",
    "# Carregar arquivos CGFirm\n",
    "files = [f for f in os.listdir(input_dir) if \"macro_model_CGFirm\" in f]\n",
    "if files:\n",
    "    CGFirm = pd.read_csv(os.path.join(input_dir, files[0]))\n",
    "    CGFirm = CGFirm.drop(columns=[col for col in [\"run\", \"index_no\"] if col in CGFirm.columns])\n",
    "else:\n",
    "    CGFirm = pd.DataFrame()\n",
    "\n",
    "# Gerar dataframes de médias e contagem de booleanos\n",
    "if not Household.empty:\n",
    "    household_means = Household.groupby(\"step\").agg(\n",
    "        {**{col: \"mean\" for col in Household.select_dtypes(include=\"number\").columns if col != \"step\"},\n",
    "            **{col: \"sum\" for col in Household.select_dtypes(include=\"bool\").columns}}\n",
    "    ).reset_index()\n",
    "    household_means.to_csv(output_dir / \"household_means.csv\", index=False)\n",
    "else:\n",
    "    print(\"Nenhum dado Household encontrado.\")\n",
    "\n",
    "if not CGFirm.empty:\n",
    "    cg_means = CGFirm.groupby(\"step\").agg(\n",
    "        {**{col: \"mean\" for col in CGFirm.select_dtypes(include=\"number\").columns if col != \"step\"},\n",
    "            **{col: \"sum\" for col in CGFirm.select_dtypes(include=\"bool\").columns}}\n",
    "    ).reset_index()\n",
    "    cg_means.to_csv(output_dir / \"cg_means.csv\", index=False)\n",
    "else:\n",
    "    print(\"Nenhum dado CGFirm encontrado.\")\n",
    "\n",
    "print(\"Processamento concluído.\")\n",
    "\n",
    "\n"
   ]
  },
  {
   "cell_type": "markdown",
   "id": "7d87d4a8",
   "metadata": {},
   "source": [
    "## Análise do Resultado"
   ]
  },
  {
   "cell_type": "code",
   "execution_count": 4,
   "id": "891422aa",
   "metadata": {},
   "outputs": [
    {
     "ename": "NameError",
     "evalue": "name 'math' is not defined",
     "output_type": "error",
     "traceback": [
      "\u001b[0;31m---------------------------------------------------------------------------\u001b[0m",
      "\u001b[0;31mNameError\u001b[0m                                 Traceback (most recent call last)",
      "Cell \u001b[0;32mIn[4], line 35\u001b[0m\n\u001b[1;32m     32\u001b[0m     plt\u001b[38;5;241m.\u001b[39mtight_layout()\n\u001b[1;32m     33\u001b[0m     plt\u001b[38;5;241m.\u001b[39mshow()\n\u001b[0;32m---> 35\u001b[0m \u001b[43mplot_grid\u001b[49m\u001b[43m(\u001b[49m\u001b[43mhousehold_means\u001b[49m\u001b[43m,\u001b[49m\u001b[43m \u001b[49m\u001b[38;5;124;43m\"\u001b[39;49m\u001b[38;5;124;43mHousehold\u001b[39;49m\u001b[38;5;124;43m\"\u001b[39;49m\u001b[43m,\u001b[49m\u001b[43m \u001b[49m\u001b[43mncol\u001b[49m\u001b[38;5;241;43m=\u001b[39;49m\u001b[38;5;241;43m4\u001b[39;49m\u001b[43m)\u001b[49m\n\u001b[1;32m     36\u001b[0m plot_grid(cg_means, \u001b[38;5;124m\"\u001b[39m\u001b[38;5;124mCGFirm\u001b[39m\u001b[38;5;124m\"\u001b[39m, ncol\u001b[38;5;241m=\u001b[39m\u001b[38;5;241m4\u001b[39m)\n",
      "Cell \u001b[0;32mIn[4], line 21\u001b[0m, in \u001b[0;36mplot_grid\u001b[0;34m(df, title_prefix, ncol)\u001b[0m\n\u001b[1;32m     19\u001b[0m cols \u001b[38;5;241m=\u001b[39m [col \u001b[38;5;28;01mfor\u001b[39;00m col \u001b[38;5;129;01min\u001b[39;00m df\u001b[38;5;241m.\u001b[39mcolumns \u001b[38;5;28;01mif\u001b[39;00m col \u001b[38;5;241m!=\u001b[39m \u001b[38;5;124m\"\u001b[39m\u001b[38;5;124mstep\u001b[39m\u001b[38;5;124m\"\u001b[39m]\n\u001b[1;32m     20\u001b[0m n \u001b[38;5;241m=\u001b[39m \u001b[38;5;28mlen\u001b[39m(cols)\n\u001b[0;32m---> 21\u001b[0m nrow \u001b[38;5;241m=\u001b[39m \u001b[43mmath\u001b[49m\u001b[38;5;241m.\u001b[39mceil(n \u001b[38;5;241m/\u001b[39m ncol)\n\u001b[1;32m     22\u001b[0m fig, axes \u001b[38;5;241m=\u001b[39m plt\u001b[38;5;241m.\u001b[39msubplots(nrow, ncol, figsize\u001b[38;5;241m=\u001b[39m(\u001b[38;5;241m5\u001b[39m\u001b[38;5;241m*\u001b[39mncol, \u001b[38;5;241m3\u001b[39m\u001b[38;5;241m*\u001b[39mnrow), squeeze\u001b[38;5;241m=\u001b[39m\u001b[38;5;28;01mFalse\u001b[39;00m)\n\u001b[1;32m     23\u001b[0m \u001b[38;5;28;01mfor\u001b[39;00m idx, var \u001b[38;5;129;01min\u001b[39;00m \u001b[38;5;28menumerate\u001b[39m(cols):\n",
      "\u001b[0;31mNameError\u001b[0m: name 'math' is not defined"
     ]
    }
   ],
   "source": [
    "household_means_path = output_dir / \"household_means.csv\"\n",
    "cg_means_path = output_dir / \"cg_means.csv\"\n",
    "\n",
    "if household_means_path.exists():\n",
    "    household_means = pd.read_csv(household_means_path)\n",
    "else:\n",
    "    household_means = None\n",
    "    print(\"Arquivo household_means.csv não encontrado.\")\n",
    "\n",
    "if cg_means_path.exists():\n",
    "    cg_means = pd.read_csv(cg_means_path)\n",
    "else:\n",
    "    cg_means = None\n",
    "    print(\"Arquivo cg_means.csv não encontrado.\")\n",
    "\n",
    "def plot_grid(df, title_prefix, ncol=4):\n",
    "    if df is None:\n",
    "        return\n",
    "    cols = [col for col in df.columns if col != \"step\"]\n",
    "    n = len(cols)\n",
    "    nrow = math.ceil(n / ncol)\n",
    "    fig, axes = plt.subplots(nrow, ncol, figsize=(5*ncol, 3*nrow), squeeze=False)\n",
    "    for idx, var in enumerate(cols):\n",
    "        ax = axes[idx // ncol][idx % ncol]\n",
    "        ax.plot(df[\"step\"], df[var], marker=\"o\", linewidth=1)\n",
    "        ax.set_title(f\"{title_prefix} - {var}\", fontsize=10)\n",
    "        ax.set_xlabel(\"Step\", fontsize=8)\n",
    "        ax.set_ylabel(f\"means - {var}\", fontsize=8)\n",
    "        ax.grid(True, alpha=0.3)\n",
    "    for idx in range(n, nrow * ncol):\n",
    "        fig.delaxes(axes[idx // ncol][idx % ncol])\n",
    "    plt.tight_layout()\n",
    "    plt.show()\n",
    "\n",
    "plot_grid(household_means, \"Household\", ncol=4)\n",
    "plot_grid(cg_means, \"CGFirm\", ncol=4)\n"
   ]
  }
 ],
 "metadata": {
  "kernelspec": {
   "display_name": ".venv",
   "language": "python",
   "name": "python3"
  },
  "language_info": {
   "codemirror_mode": {
    "name": "ipython",
    "version": 3
   },
   "file_extension": ".py",
   "mimetype": "text/x-python",
   "name": "python",
   "nbconvert_exporter": "python",
   "pygments_lexer": "ipython3",
   "version": "3.12.3"
  }
 },
 "nbformat": 4,
 "nbformat_minor": 5
}
